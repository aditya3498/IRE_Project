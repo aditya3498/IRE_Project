{
 "cells": [
  {
   "cell_type": "code",
   "execution_count": 1,
   "metadata": {},
   "outputs": [],
   "source": [
    "import tweepy\n",
    "import csv\n",
    "import pandas as pd\n",
    "import numpy as np\n",
    "import networkx as nx\n",
    "import os\n",
    "from Events_NER.TweetSegmenter import SEDTWikSegmenter"
   ]
  },
  {
   "cell_type": "code",
   "execution_count": 2,
   "metadata": {},
   "outputs": [
    {
     "name": "stdout",
     "output_type": "stream",
     "text": [
      "Initializing SEDTWik Segmenter\n",
      "SEDTWik Segmenter Ready\n",
      "\n"
     ]
    }
   ],
   "source": [
    "wiki_titles_file = \"Events_NER/data/final.txt\"\n",
    "segmenter = SEDTWikSegmenter(wiki_titles_file, 4, 3, False)"
   ]
  },
  {
   "cell_type": "code",
   "execution_count": 3,
   "metadata": {},
   "outputs": [],
   "source": [
    "class Tweet():\n",
    "    \n",
    "    def __init__(self, status_response):\n",
    "        self.id = status_response.id\n",
    "        self._get_text(status_response)\n",
    "        self.user_info = status_response.user\n",
    "        self.entitites = status_response.entities\n",
    "        self.json = status_response._json\n",
    "        self.json['text'] = self.text\n",
    "        arr = []\n",
    "        for users in self.json['entities']['user_mentions']: \n",
    "            arr += [users['name']]\n",
    "        self.json['entities']['user_mentions'] = arr\n",
    "        arr = []\n",
    "        for users in self.json['entities']['hashtags']: \n",
    "            arr += [users['text']]\n",
    "        self.json['entities']['hashtags'] = arr\n",
    "        \n",
    "    def _get_text(self, status):\n",
    "        if hasattr(status, \"retweeted_status\"):  # Check if Retweet\n",
    "            try:\n",
    "                self.text = status.retweeted_status.extended_tweet[\"full_text\"]\n",
    "            except AttributeError:\n",
    "                self.text = status.retweeted_status.full_text\n",
    "        else:\n",
    "            try:\n",
    "                self.text = status.extended_tweet[\"full_text\"]\n",
    "            except AttributeError:\n",
    "                self.text = status.full_text\n",
    "    \n",
    "    #code for generating named entities of each tweet\n",
    "    def _get_named_entities(self):\n",
    "        return segmenter.tweet_segmentation(self.json)\n",
    "        \n",
    "    #code for generating event phrases\n",
    "    def _get_event_phrases(self):\n",
    "        return []\n",
    "    \n",
    "    def get_graph_entities(self):\n",
    "        return self._get_named_entities() + self._get_event_phrases()\n",
    "    \n",
    "    def __hash__(self):\n",
    "        return self.id\n",
    "    def __eq__(self, other):\n",
    "        return self.id == other.id\n",
    "\n",
    "def filterDuplicates(tweets):\n",
    "    tweet_text = set()\n",
    "    filtered_tweets = []\n",
    "    for tweet in tweets:\n",
    "        if tweet.text not in tweet_text:\n",
    "            filtered_tweets += [tweet]\n",
    "            tweet_text.add(tweet.text)\n",
    "    return filtered_tweets\n",
    "\n",
    "class TweetRetriever():\n",
    "\n",
    "    def __init__(self):\n",
    "        consumer_key = '95cMtk1vJvEEW2rlMR0kIU9lE'\n",
    "        consumer_secret = 'pMQFi7LBdcudKDNZOokUJGS8mDxQanUv8spxBDdTLiwSZBuUOM'\n",
    "        access_token = '1036313393114767360-BZ8Qpi02ghRvehhcITEIyl7SmGWmU6'\n",
    "        access_token_secret = 'C7VAqGDhTdB424iBtEwF1CJI9YPTcvNvLjFmaCXENNv3G'\n",
    "        auth = tweepy.OAuthHandler(consumer_key, consumer_secret)\n",
    "        auth.set_access_token(access_token, access_token_secret)\n",
    "        self.api = tweepy.API(auth,wait_on_rate_limit=True)\n",
    "    \n",
    "    def getTweets(self, hashtag, count = 10):\n",
    "        tweets = []\n",
    "        for status in tweepy.Cursor(self.api.search, q = hashtag, count = count, tweet_mode = 'extended',\n",
    "                                    lang = 'en').items():\n",
    "            tweets.append(Tweet(status))\n",
    "        return filterDuplicates(tweets)\n",
    "\n",
    "    "
   ]
  },
  {
   "cell_type": "code",
   "execution_count": 18,
   "metadata": {},
   "outputs": [],
   "source": [
    "class GraphNode():\n",
    "    \n",
    "    def __init__(self, name):\n",
    "        self.name = name\n",
    "        self.tweets = set()\n",
    "        self.value = 0\n",
    "        \n",
    "    def add_tweet(self, tweet):\n",
    "        self.tweets.add(tweet)\n",
    "    \n",
    "    def common_tweets(self, other):\n",
    "        return len(self.tweets.intersection(other.tweets))\n",
    "    \n",
    "    def __hash__(self):\n",
    "        return hash(self.name)\n",
    "    def __eq__(self, other):\n",
    "        return self.name == other.name\n",
    "#     def __print__(self):\n",
    "#         print(self.name)\n",
    "    \n",
    "class TweetGraph():\n",
    "    \n",
    "    def __init__(self, topic):\n",
    "        self.topic = topic\n",
    "        self.nodes = {}\n",
    "        self.edge_map = {}\n",
    "        \n",
    "    def add_entity(self, name, tweet_ref):\n",
    "        if name not in self.nodes:\n",
    "            self.nodes[name] = GraphNode(name)\n",
    "        self.nodes[name].add_tweet(tweet_ref)\n",
    "    \n",
    "    def add_edge(self, node1, node2):\n",
    "        assert node1.name in self.nodes\n",
    "        assert node2.name in self.nodes\n",
    "        weight = node1.common_tweets(node2)\n",
    "        self.edge_map.setdefault(node1.name, {}).setdefault(node2.name, weight)\n",
    "        self.edge_map.setdefault(node2.name, {}).setdefault(node1.name, weight)\n",
    "    \n",
    "    def compute_all_edges(self):\n",
    "        for node1 in self.nodes.values():\n",
    "            for node2 in self.nodes.values():\n",
    "                self.add_edge(node1, node2)\n",
    "    \n",
    "    def _get_pagerank_matrix(self):\n",
    "        x = [[0 for _ in range(len(self.nodes))] for _ in range(len(self.nodes))]\n",
    "        for i, node1 in enumerate(self.nodes.values()):\n",
    "            wsum = 0\n",
    "            for node2 in self.nodes.values():\n",
    "                wsum += self.edge_map.get(node1.name, {}).get(node2.name, 0)\n",
    "            for j, node2 in enumerate(self.nodes.values()):\n",
    "                x[i][j] = self.edge_map.get(node1.name, {}).get(node2.name, 0)/wsum\n",
    "        return np.array(x)\n",
    "    \n",
    "    def set_textrank_values(self, d = 0.85):\n",
    "        rank_graph = nx.from_numpy_array(self._get_pagerank_matrix())\n",
    "        node_scores = nx.pagerank(rank_graph, alpha = d)\n",
    "        for i, node in enumerate(self.nodes.values()):\n",
    "            node.value = node_scores[i]\n",
    "    \n",
    "    def get_weight(self, node1, node2):\n",
    "        return self.edge_map.get(node1.name, {}).get(node2.name, 0)\n",
    "    \n",
    "    def get_topic_similarity(self, node):\n",
    "        if node.name in self.topic:\n",
    "            return len(node.tweets)\n",
    "        return 1\n",
    "    \n",
    "    def get_all_node_values(self):\n",
    "        arr = []\n",
    "        for node in self.nodes.values():\n",
    "            arr.append((node.name, node.value))\n",
    "        return sorted(arr, key = lambda x: x[1])\n",
    "    \n",
    "    def get_avg_thres(self):\n",
    "        values = self.get_all_node_values()\n",
    "        return sum([i[1] for i in values])/len(values)\n",
    "        \n",
    "    def get_nodes_above_thres(self, thres = 1):\n",
    "        nodes = []\n",
    "        value_sum = 0\n",
    "        for node in self.nodes.values():\n",
    "            if node.value > thres:\n",
    "                nodes.append(node)\n",
    "                value_sum += node.value\n",
    "        return nodes, value_sum\n",
    "        "
   ]
  },
  {
   "cell_type": "code",
   "execution_count": 5,
   "metadata": {},
   "outputs": [],
   "source": [
    "def createGraph(topic, tweets):\n",
    "    tweetGraph = TweetGraph(topic)\n",
    "    for tweet in tweets:\n",
    "        graph_entities = tweet.get_graph_entities()\n",
    "        for name in graph_entities:\n",
    "            tweetGraph.add_entity(name, tweet)\n",
    "    tweetGraph.compute_all_edges()\n",
    "    tweetGraph.set_textrank_values()\n",
    "    return tweetGraph\n",
    "\n",
    "def partitionGraph(tweetGraph, alpha, beta, high_rank_thres = 1):\n",
    "    \n",
    "    #initialize highly ranked nodes and their total values sum\n",
    "    high_ranked_nodes, total_value_sum = tweetGraph.get_nodes_above_thres(high_rank_thres)\n",
    "    high_ranked_nodes = sorted(high_ranked_nodes, key = lambda x: x.value)\n",
    "    partitions = []\n",
    "    \n",
    "    #partitioning loop\n",
    "    while len(high_ranked_nodes):\n",
    "        #entity set is the nodes in the partition\n",
    "        entity_set = set()\n",
    "        repr_node = high_ranked_nodes.pop()\n",
    "        entity_set.add(repr_node)\n",
    "        repr_node_topic_similarity = tweetGraph.get_topic_similarity(repr_node)\n",
    "        value_sum = repr_node.value\n",
    "        \n",
    "        for node in high_ranked_nodes:\n",
    "            node_edge_weight = tweetGraph.get_weight(repr_node, node)\n",
    "            node_topic_similarity = tweetGraph.get_topic_similarity(node)\n",
    "            \n",
    "            if node_edge_weight/repr_node_topic_similarity > alpha and \\\n",
    "                node_topic_similarity/repr_node_topic_similarity > alpha:\n",
    "                entity_set.add(node)\n",
    "                value_sum += node.value\n",
    "        \n",
    "        if value_sum/total_value_sum > beta:\n",
    "            temp = []\n",
    "            for node in high_ranked_nodes:\n",
    "                if node not in entity_set:\n",
    "                    temp.append(node)\n",
    "            high_ranked_nodes = temp\n",
    "            \n",
    "            partitions.append([])\n",
    "            for node in list(entity_set):\n",
    "                partitions[-1].append(node)\n",
    "            \n",
    "    return partitions\n",
    "    "
   ]
  },
  {
   "cell_type": "code",
   "execution_count": 6,
   "metadata": {},
   "outputs": [],
   "source": [
    "ret = TweetRetriever()"
   ]
  },
  {
   "cell_type": "code",
   "execution_count": 194,
   "metadata": {
    "scrolled": false
   },
   "outputs": [
    {
     "ename": "TweepError",
     "evalue": "Failed to send request: HTTPSConnectionPool(host='api.twitter.com', port=443): Max retries exceeded with url: /1.1/search/tweets.json?max_id=1186334810874077184&q=%23gravity&count=1&tweet_mode=extended&lang=en (Caused by ConnectTimeoutError(<urllib3.connection.VerifiedHTTPSConnection object at 0x7f64499c1e10>, 'Connection to api.twitter.com timed out. (connect timeout=60)'))",
     "output_type": "error",
     "traceback": [
      "\u001b[0;31m---------------------------------------------------------------------------\u001b[0m",
      "\u001b[0;31mtimeout\u001b[0m                                   Traceback (most recent call last)",
      "\u001b[0;32m~/.local/lib/python3.6/site-packages/urllib3/connection.py\u001b[0m in \u001b[0;36m_new_conn\u001b[0;34m(self)\u001b[0m\n\u001b[1;32m    156\u001b[0m             conn = connection.create_connection(\n\u001b[0;32m--> 157\u001b[0;31m                 \u001b[0;34m(\u001b[0m\u001b[0mself\u001b[0m\u001b[0;34m.\u001b[0m\u001b[0m_dns_host\u001b[0m\u001b[0;34m,\u001b[0m \u001b[0mself\u001b[0m\u001b[0;34m.\u001b[0m\u001b[0mport\u001b[0m\u001b[0;34m)\u001b[0m\u001b[0;34m,\u001b[0m \u001b[0mself\u001b[0m\u001b[0;34m.\u001b[0m\u001b[0mtimeout\u001b[0m\u001b[0;34m,\u001b[0m \u001b[0;34m**\u001b[0m\u001b[0mextra_kw\u001b[0m\u001b[0;34m\u001b[0m\u001b[0;34m\u001b[0m\u001b[0m\n\u001b[0m\u001b[1;32m    158\u001b[0m             )\n",
      "\u001b[0;32m~/.local/lib/python3.6/site-packages/urllib3/util/connection.py\u001b[0m in \u001b[0;36mcreate_connection\u001b[0;34m(address, timeout, source_address, socket_options)\u001b[0m\n\u001b[1;32m     83\u001b[0m     \u001b[0;32mif\u001b[0m \u001b[0merr\u001b[0m \u001b[0;32mis\u001b[0m \u001b[0;32mnot\u001b[0m \u001b[0;32mNone\u001b[0m\u001b[0;34m:\u001b[0m\u001b[0;34m\u001b[0m\u001b[0;34m\u001b[0m\u001b[0m\n\u001b[0;32m---> 84\u001b[0;31m         \u001b[0;32mraise\u001b[0m \u001b[0merr\u001b[0m\u001b[0;34m\u001b[0m\u001b[0;34m\u001b[0m\u001b[0m\n\u001b[0m\u001b[1;32m     85\u001b[0m \u001b[0;34m\u001b[0m\u001b[0m\n",
      "\u001b[0;32m~/.local/lib/python3.6/site-packages/urllib3/util/connection.py\u001b[0m in \u001b[0;36mcreate_connection\u001b[0;34m(address, timeout, source_address, socket_options)\u001b[0m\n\u001b[1;32m     73\u001b[0m                 \u001b[0msock\u001b[0m\u001b[0;34m.\u001b[0m\u001b[0mbind\u001b[0m\u001b[0;34m(\u001b[0m\u001b[0msource_address\u001b[0m\u001b[0;34m)\u001b[0m\u001b[0;34m\u001b[0m\u001b[0;34m\u001b[0m\u001b[0m\n\u001b[0;32m---> 74\u001b[0;31m             \u001b[0msock\u001b[0m\u001b[0;34m.\u001b[0m\u001b[0mconnect\u001b[0m\u001b[0;34m(\u001b[0m\u001b[0msa\u001b[0m\u001b[0;34m)\u001b[0m\u001b[0;34m\u001b[0m\u001b[0;34m\u001b[0m\u001b[0m\n\u001b[0m\u001b[1;32m     75\u001b[0m             \u001b[0;32mreturn\u001b[0m \u001b[0msock\u001b[0m\u001b[0;34m\u001b[0m\u001b[0;34m\u001b[0m\u001b[0m\n",
      "\u001b[0;31mtimeout\u001b[0m: timed out",
      "\nDuring handling of the above exception, another exception occurred:\n",
      "\u001b[0;31mConnectTimeoutError\u001b[0m                       Traceback (most recent call last)",
      "\u001b[0;32m~/.local/lib/python3.6/site-packages/urllib3/connectionpool.py\u001b[0m in \u001b[0;36murlopen\u001b[0;34m(self, method, url, body, headers, retries, redirect, assert_same_host, timeout, pool_timeout, release_conn, chunked, body_pos, **response_kw)\u001b[0m\n\u001b[1;32m    671\u001b[0m                 \u001b[0mheaders\u001b[0m\u001b[0;34m=\u001b[0m\u001b[0mheaders\u001b[0m\u001b[0;34m,\u001b[0m\u001b[0;34m\u001b[0m\u001b[0;34m\u001b[0m\u001b[0m\n\u001b[0;32m--> 672\u001b[0;31m                 \u001b[0mchunked\u001b[0m\u001b[0;34m=\u001b[0m\u001b[0mchunked\u001b[0m\u001b[0;34m,\u001b[0m\u001b[0;34m\u001b[0m\u001b[0;34m\u001b[0m\u001b[0m\n\u001b[0m\u001b[1;32m    673\u001b[0m             )\n",
      "\u001b[0;32m~/.local/lib/python3.6/site-packages/urllib3/connectionpool.py\u001b[0m in \u001b[0;36m_make_request\u001b[0;34m(self, conn, method, url, timeout, chunked, **httplib_request_kw)\u001b[0m\n\u001b[1;32m    375\u001b[0m         \u001b[0;32mtry\u001b[0m\u001b[0;34m:\u001b[0m\u001b[0;34m\u001b[0m\u001b[0;34m\u001b[0m\u001b[0m\n\u001b[0;32m--> 376\u001b[0;31m             \u001b[0mself\u001b[0m\u001b[0;34m.\u001b[0m\u001b[0m_validate_conn\u001b[0m\u001b[0;34m(\u001b[0m\u001b[0mconn\u001b[0m\u001b[0;34m)\u001b[0m\u001b[0;34m\u001b[0m\u001b[0;34m\u001b[0m\u001b[0m\n\u001b[0m\u001b[1;32m    377\u001b[0m         \u001b[0;32mexcept\u001b[0m \u001b[0;34m(\u001b[0m\u001b[0mSocketTimeout\u001b[0m\u001b[0;34m,\u001b[0m \u001b[0mBaseSSLError\u001b[0m\u001b[0;34m)\u001b[0m \u001b[0;32mas\u001b[0m \u001b[0me\u001b[0m\u001b[0;34m:\u001b[0m\u001b[0;34m\u001b[0m\u001b[0;34m\u001b[0m\u001b[0m\n",
      "\u001b[0;32m~/.local/lib/python3.6/site-packages/urllib3/connectionpool.py\u001b[0m in \u001b[0;36m_validate_conn\u001b[0;34m(self, conn)\u001b[0m\n\u001b[1;32m    993\u001b[0m         \u001b[0;32mif\u001b[0m \u001b[0;32mnot\u001b[0m \u001b[0mgetattr\u001b[0m\u001b[0;34m(\u001b[0m\u001b[0mconn\u001b[0m\u001b[0;34m,\u001b[0m \u001b[0;34m\"sock\"\u001b[0m\u001b[0;34m,\u001b[0m \u001b[0;32mNone\u001b[0m\u001b[0;34m)\u001b[0m\u001b[0;34m:\u001b[0m  \u001b[0;31m# AppEngine might not have  `.sock`\u001b[0m\u001b[0;34m\u001b[0m\u001b[0;34m\u001b[0m\u001b[0m\n\u001b[0;32m--> 994\u001b[0;31m             \u001b[0mconn\u001b[0m\u001b[0;34m.\u001b[0m\u001b[0mconnect\u001b[0m\u001b[0;34m(\u001b[0m\u001b[0;34m)\u001b[0m\u001b[0;34m\u001b[0m\u001b[0;34m\u001b[0m\u001b[0m\n\u001b[0m\u001b[1;32m    995\u001b[0m \u001b[0;34m\u001b[0m\u001b[0m\n",
      "\u001b[0;32m~/.local/lib/python3.6/site-packages/urllib3/connection.py\u001b[0m in \u001b[0;36mconnect\u001b[0;34m(self)\u001b[0m\n\u001b[1;32m    333\u001b[0m         \u001b[0;31m# Add certificate verification\u001b[0m\u001b[0;34m\u001b[0m\u001b[0;34m\u001b[0m\u001b[0;34m\u001b[0m\u001b[0m\n\u001b[0;32m--> 334\u001b[0;31m         \u001b[0mconn\u001b[0m \u001b[0;34m=\u001b[0m \u001b[0mself\u001b[0m\u001b[0;34m.\u001b[0m\u001b[0m_new_conn\u001b[0m\u001b[0;34m(\u001b[0m\u001b[0;34m)\u001b[0m\u001b[0;34m\u001b[0m\u001b[0;34m\u001b[0m\u001b[0m\n\u001b[0m\u001b[1;32m    335\u001b[0m         \u001b[0mhostname\u001b[0m \u001b[0;34m=\u001b[0m \u001b[0mself\u001b[0m\u001b[0;34m.\u001b[0m\u001b[0mhost\u001b[0m\u001b[0;34m\u001b[0m\u001b[0;34m\u001b[0m\u001b[0m\n",
      "\u001b[0;32m~/.local/lib/python3.6/site-packages/urllib3/connection.py\u001b[0m in \u001b[0;36m_new_conn\u001b[0;34m(self)\u001b[0m\n\u001b[1;32m    163\u001b[0m                 \u001b[0;34m\"Connection to %s timed out. (connect timeout=%s)\"\u001b[0m\u001b[0;34m\u001b[0m\u001b[0;34m\u001b[0m\u001b[0m\n\u001b[0;32m--> 164\u001b[0;31m                 \u001b[0;34m%\u001b[0m \u001b[0;34m(\u001b[0m\u001b[0mself\u001b[0m\u001b[0;34m.\u001b[0m\u001b[0mhost\u001b[0m\u001b[0;34m,\u001b[0m \u001b[0mself\u001b[0m\u001b[0;34m.\u001b[0m\u001b[0mtimeout\u001b[0m\u001b[0;34m)\u001b[0m\u001b[0;34m,\u001b[0m\u001b[0;34m\u001b[0m\u001b[0;34m\u001b[0m\u001b[0m\n\u001b[0m\u001b[1;32m    165\u001b[0m             )\n",
      "\u001b[0;31mConnectTimeoutError\u001b[0m: (<urllib3.connection.VerifiedHTTPSConnection object at 0x7f64499c1e10>, 'Connection to api.twitter.com timed out. (connect timeout=60)')",
      "\nDuring handling of the above exception, another exception occurred:\n",
      "\u001b[0;31mMaxRetryError\u001b[0m                             Traceback (most recent call last)",
      "\u001b[0;32m~/.local/lib/python3.6/site-packages/requests/adapters.py\u001b[0m in \u001b[0;36msend\u001b[0;34m(self, request, stream, timeout, verify, cert, proxies)\u001b[0m\n\u001b[1;32m    448\u001b[0m                     \u001b[0mretries\u001b[0m\u001b[0;34m=\u001b[0m\u001b[0mself\u001b[0m\u001b[0;34m.\u001b[0m\u001b[0mmax_retries\u001b[0m\u001b[0;34m,\u001b[0m\u001b[0;34m\u001b[0m\u001b[0;34m\u001b[0m\u001b[0m\n\u001b[0;32m--> 449\u001b[0;31m                     \u001b[0mtimeout\u001b[0m\u001b[0;34m=\u001b[0m\u001b[0mtimeout\u001b[0m\u001b[0;34m\u001b[0m\u001b[0;34m\u001b[0m\u001b[0m\n\u001b[0m\u001b[1;32m    450\u001b[0m                 )\n",
      "\u001b[0;32m~/.local/lib/python3.6/site-packages/urllib3/connectionpool.py\u001b[0m in \u001b[0;36murlopen\u001b[0;34m(self, method, url, body, headers, retries, redirect, assert_same_host, timeout, pool_timeout, release_conn, chunked, body_pos, **response_kw)\u001b[0m\n\u001b[1;32m    719\u001b[0m             retries = retries.increment(\n\u001b[0;32m--> 720\u001b[0;31m                 \u001b[0mmethod\u001b[0m\u001b[0;34m,\u001b[0m \u001b[0murl\u001b[0m\u001b[0;34m,\u001b[0m \u001b[0merror\u001b[0m\u001b[0;34m=\u001b[0m\u001b[0me\u001b[0m\u001b[0;34m,\u001b[0m \u001b[0m_pool\u001b[0m\u001b[0;34m=\u001b[0m\u001b[0mself\u001b[0m\u001b[0;34m,\u001b[0m \u001b[0m_stacktrace\u001b[0m\u001b[0;34m=\u001b[0m\u001b[0msys\u001b[0m\u001b[0;34m.\u001b[0m\u001b[0mexc_info\u001b[0m\u001b[0;34m(\u001b[0m\u001b[0;34m)\u001b[0m\u001b[0;34m[\u001b[0m\u001b[0;36m2\u001b[0m\u001b[0;34m]\u001b[0m\u001b[0;34m\u001b[0m\u001b[0;34m\u001b[0m\u001b[0m\n\u001b[0m\u001b[1;32m    721\u001b[0m             )\n",
      "\u001b[0;32m~/.local/lib/python3.6/site-packages/urllib3/util/retry.py\u001b[0m in \u001b[0;36mincrement\u001b[0;34m(self, method, url, response, error, _pool, _stacktrace)\u001b[0m\n\u001b[1;32m    435\u001b[0m         \u001b[0;32mif\u001b[0m \u001b[0mnew_retry\u001b[0m\u001b[0;34m.\u001b[0m\u001b[0mis_exhausted\u001b[0m\u001b[0;34m(\u001b[0m\u001b[0;34m)\u001b[0m\u001b[0;34m:\u001b[0m\u001b[0;34m\u001b[0m\u001b[0;34m\u001b[0m\u001b[0m\n\u001b[0;32m--> 436\u001b[0;31m             \u001b[0;32mraise\u001b[0m \u001b[0mMaxRetryError\u001b[0m\u001b[0;34m(\u001b[0m\u001b[0m_pool\u001b[0m\u001b[0;34m,\u001b[0m \u001b[0murl\u001b[0m\u001b[0;34m,\u001b[0m \u001b[0merror\u001b[0m \u001b[0;32mor\u001b[0m \u001b[0mResponseError\u001b[0m\u001b[0;34m(\u001b[0m\u001b[0mcause\u001b[0m\u001b[0;34m)\u001b[0m\u001b[0;34m)\u001b[0m\u001b[0;34m\u001b[0m\u001b[0;34m\u001b[0m\u001b[0m\n\u001b[0m\u001b[1;32m    437\u001b[0m \u001b[0;34m\u001b[0m\u001b[0m\n",
      "\u001b[0;31mMaxRetryError\u001b[0m: HTTPSConnectionPool(host='api.twitter.com', port=443): Max retries exceeded with url: /1.1/search/tweets.json?max_id=1186334810874077184&q=%23gravity&count=1&tweet_mode=extended&lang=en (Caused by ConnectTimeoutError(<urllib3.connection.VerifiedHTTPSConnection object at 0x7f64499c1e10>, 'Connection to api.twitter.com timed out. (connect timeout=60)'))",
      "\nDuring handling of the above exception, another exception occurred:\n",
      "\u001b[0;31mConnectTimeout\u001b[0m                            Traceback (most recent call last)",
      "\u001b[0;32m~/.local/lib/python3.6/site-packages/tweepy/binder.py\u001b[0m in \u001b[0;36mexecute\u001b[0;34m(self)\u001b[0m\n\u001b[1;32m    188\u001b[0m                                                 \u001b[0mauth\u001b[0m\u001b[0;34m=\u001b[0m\u001b[0mauth\u001b[0m\u001b[0;34m,\u001b[0m\u001b[0;34m\u001b[0m\u001b[0;34m\u001b[0m\u001b[0m\n\u001b[0;32m--> 189\u001b[0;31m                                                 proxies=self.api.proxy)\n\u001b[0m\u001b[1;32m    190\u001b[0m                 \u001b[0;32mexcept\u001b[0m \u001b[0mException\u001b[0m \u001b[0;32mas\u001b[0m \u001b[0me\u001b[0m\u001b[0;34m:\u001b[0m\u001b[0;34m\u001b[0m\u001b[0;34m\u001b[0m\u001b[0m\n",
      "\u001b[0;32m~/.local/lib/python3.6/site-packages/requests/sessions.py\u001b[0m in \u001b[0;36mrequest\u001b[0;34m(self, method, url, params, data, headers, cookies, files, auth, timeout, allow_redirects, proxies, hooks, stream, verify, cert, json)\u001b[0m\n\u001b[1;32m    532\u001b[0m         \u001b[0msend_kwargs\u001b[0m\u001b[0;34m.\u001b[0m\u001b[0mupdate\u001b[0m\u001b[0;34m(\u001b[0m\u001b[0msettings\u001b[0m\u001b[0;34m)\u001b[0m\u001b[0;34m\u001b[0m\u001b[0;34m\u001b[0m\u001b[0m\n\u001b[0;32m--> 533\u001b[0;31m         \u001b[0mresp\u001b[0m \u001b[0;34m=\u001b[0m \u001b[0mself\u001b[0m\u001b[0;34m.\u001b[0m\u001b[0msend\u001b[0m\u001b[0;34m(\u001b[0m\u001b[0mprep\u001b[0m\u001b[0;34m,\u001b[0m \u001b[0;34m**\u001b[0m\u001b[0msend_kwargs\u001b[0m\u001b[0;34m)\u001b[0m\u001b[0;34m\u001b[0m\u001b[0;34m\u001b[0m\u001b[0m\n\u001b[0m\u001b[1;32m    534\u001b[0m \u001b[0;34m\u001b[0m\u001b[0m\n",
      "\u001b[0;32m~/.local/lib/python3.6/site-packages/requests/sessions.py\u001b[0m in \u001b[0;36msend\u001b[0;34m(self, request, **kwargs)\u001b[0m\n\u001b[1;32m    645\u001b[0m         \u001b[0;31m# Send the request\u001b[0m\u001b[0;34m\u001b[0m\u001b[0;34m\u001b[0m\u001b[0;34m\u001b[0m\u001b[0m\n\u001b[0;32m--> 646\u001b[0;31m         \u001b[0mr\u001b[0m \u001b[0;34m=\u001b[0m \u001b[0madapter\u001b[0m\u001b[0;34m.\u001b[0m\u001b[0msend\u001b[0m\u001b[0;34m(\u001b[0m\u001b[0mrequest\u001b[0m\u001b[0;34m,\u001b[0m \u001b[0;34m**\u001b[0m\u001b[0mkwargs\u001b[0m\u001b[0;34m)\u001b[0m\u001b[0;34m\u001b[0m\u001b[0;34m\u001b[0m\u001b[0m\n\u001b[0m\u001b[1;32m    647\u001b[0m \u001b[0;34m\u001b[0m\u001b[0m\n",
      "\u001b[0;32m~/.local/lib/python3.6/site-packages/requests/adapters.py\u001b[0m in \u001b[0;36msend\u001b[0;34m(self, request, stream, timeout, verify, cert, proxies)\u001b[0m\n\u001b[1;32m    503\u001b[0m                 \u001b[0;32mif\u001b[0m \u001b[0;32mnot\u001b[0m \u001b[0misinstance\u001b[0m\u001b[0;34m(\u001b[0m\u001b[0me\u001b[0m\u001b[0;34m.\u001b[0m\u001b[0mreason\u001b[0m\u001b[0;34m,\u001b[0m \u001b[0mNewConnectionError\u001b[0m\u001b[0;34m)\u001b[0m\u001b[0;34m:\u001b[0m\u001b[0;34m\u001b[0m\u001b[0;34m\u001b[0m\u001b[0m\n\u001b[0;32m--> 504\u001b[0;31m                     \u001b[0;32mraise\u001b[0m \u001b[0mConnectTimeout\u001b[0m\u001b[0;34m(\u001b[0m\u001b[0me\u001b[0m\u001b[0;34m,\u001b[0m \u001b[0mrequest\u001b[0m\u001b[0;34m=\u001b[0m\u001b[0mrequest\u001b[0m\u001b[0;34m)\u001b[0m\u001b[0;34m\u001b[0m\u001b[0;34m\u001b[0m\u001b[0m\n\u001b[0m\u001b[1;32m    505\u001b[0m \u001b[0;34m\u001b[0m\u001b[0m\n",
      "\u001b[0;31mConnectTimeout\u001b[0m: HTTPSConnectionPool(host='api.twitter.com', port=443): Max retries exceeded with url: /1.1/search/tweets.json?max_id=1186334810874077184&q=%23gravity&count=1&tweet_mode=extended&lang=en (Caused by ConnectTimeoutError(<urllib3.connection.VerifiedHTTPSConnection object at 0x7f64499c1e10>, 'Connection to api.twitter.com timed out. (connect timeout=60)'))",
      "\nDuring handling of the above exception, another exception occurred:\n",
      "\u001b[0;31mTweepError\u001b[0m                                Traceback (most recent call last)",
      "\u001b[0;32m<ipython-input-194-86e405a1640e>\u001b[0m in \u001b[0;36m<module>\u001b[0;34m\u001b[0m\n\u001b[0;32m----> 1\u001b[0;31m \u001b[0mtweets\u001b[0m \u001b[0;34m=\u001b[0m \u001b[0mret\u001b[0m\u001b[0;34m.\u001b[0m\u001b[0mgetTweets\u001b[0m\u001b[0;34m(\u001b[0m\u001b[0;34m'#gravity'\u001b[0m\u001b[0;34m,\u001b[0m \u001b[0;36m1\u001b[0m\u001b[0;34m)\u001b[0m\u001b[0;34m\u001b[0m\u001b[0;34m\u001b[0m\u001b[0m\n\u001b[0m",
      "\u001b[0;32m<ipython-input-3-c8c660e9234f>\u001b[0m in \u001b[0;36mgetTweets\u001b[0;34m(self, hashtag, count)\u001b[0m\n\u001b[1;32m     68\u001b[0m         \u001b[0mtweets\u001b[0m \u001b[0;34m=\u001b[0m \u001b[0;34m[\u001b[0m\u001b[0;34m]\u001b[0m\u001b[0;34m\u001b[0m\u001b[0;34m\u001b[0m\u001b[0m\n\u001b[1;32m     69\u001b[0m         for status in tweepy.Cursor(self.api.search, q = hashtag, count = count, tweet_mode = 'extended',\n\u001b[0;32m---> 70\u001b[0;31m                                     lang = 'en').items():\n\u001b[0m\u001b[1;32m     71\u001b[0m             \u001b[0mtweets\u001b[0m\u001b[0;34m.\u001b[0m\u001b[0mappend\u001b[0m\u001b[0;34m(\u001b[0m\u001b[0mTweet\u001b[0m\u001b[0;34m(\u001b[0m\u001b[0mstatus\u001b[0m\u001b[0;34m)\u001b[0m\u001b[0;34m)\u001b[0m\u001b[0;34m\u001b[0m\u001b[0;34m\u001b[0m\u001b[0m\n\u001b[1;32m     72\u001b[0m         \u001b[0;32mreturn\u001b[0m \u001b[0mfilterDuplicates\u001b[0m\u001b[0;34m(\u001b[0m\u001b[0mtweets\u001b[0m\u001b[0;34m)\u001b[0m\u001b[0;34m\u001b[0m\u001b[0;34m\u001b[0m\u001b[0m\n",
      "\u001b[0;32m~/.local/lib/python3.6/site-packages/tweepy/cursor.py\u001b[0m in \u001b[0;36m__next__\u001b[0;34m(self)\u001b[0m\n\u001b[1;32m     45\u001b[0m \u001b[0;34m\u001b[0m\u001b[0m\n\u001b[1;32m     46\u001b[0m     \u001b[0;32mdef\u001b[0m \u001b[0m__next__\u001b[0m\u001b[0;34m(\u001b[0m\u001b[0mself\u001b[0m\u001b[0;34m)\u001b[0m\u001b[0;34m:\u001b[0m\u001b[0;34m\u001b[0m\u001b[0;34m\u001b[0m\u001b[0m\n\u001b[0;32m---> 47\u001b[0;31m         \u001b[0;32mreturn\u001b[0m \u001b[0mself\u001b[0m\u001b[0;34m.\u001b[0m\u001b[0mnext\u001b[0m\u001b[0;34m(\u001b[0m\u001b[0;34m)\u001b[0m\u001b[0;34m\u001b[0m\u001b[0;34m\u001b[0m\u001b[0m\n\u001b[0m\u001b[1;32m     48\u001b[0m \u001b[0;34m\u001b[0m\u001b[0m\n\u001b[1;32m     49\u001b[0m     \u001b[0;32mdef\u001b[0m \u001b[0mnext\u001b[0m\u001b[0;34m(\u001b[0m\u001b[0mself\u001b[0m\u001b[0;34m)\u001b[0m\u001b[0;34m:\u001b[0m\u001b[0;34m\u001b[0m\u001b[0;34m\u001b[0m\u001b[0m\n",
      "\u001b[0;32m~/.local/lib/python3.6/site-packages/tweepy/cursor.py\u001b[0m in \u001b[0;36mnext\u001b[0;34m(self)\u001b[0m\n\u001b[1;32m    193\u001b[0m         \u001b[0;32mif\u001b[0m \u001b[0mself\u001b[0m\u001b[0;34m.\u001b[0m\u001b[0mcurrent_page\u001b[0m \u001b[0;32mis\u001b[0m \u001b[0;32mNone\u001b[0m \u001b[0;32mor\u001b[0m \u001b[0mself\u001b[0m\u001b[0;34m.\u001b[0m\u001b[0mpage_index\u001b[0m \u001b[0;34m==\u001b[0m \u001b[0mlen\u001b[0m\u001b[0;34m(\u001b[0m\u001b[0mself\u001b[0m\u001b[0;34m.\u001b[0m\u001b[0mcurrent_page\u001b[0m\u001b[0;34m)\u001b[0m \u001b[0;34m-\u001b[0m \u001b[0;36m1\u001b[0m\u001b[0;34m:\u001b[0m\u001b[0;34m\u001b[0m\u001b[0;34m\u001b[0m\u001b[0m\n\u001b[1;32m    194\u001b[0m             \u001b[0;31m# Reached end of current page, get the next page...\u001b[0m\u001b[0;34m\u001b[0m\u001b[0;34m\u001b[0m\u001b[0;34m\u001b[0m\u001b[0m\n\u001b[0;32m--> 195\u001b[0;31m             \u001b[0mself\u001b[0m\u001b[0;34m.\u001b[0m\u001b[0mcurrent_page\u001b[0m \u001b[0;34m=\u001b[0m \u001b[0mself\u001b[0m\u001b[0;34m.\u001b[0m\u001b[0mpage_iterator\u001b[0m\u001b[0;34m.\u001b[0m\u001b[0mnext\u001b[0m\u001b[0;34m(\u001b[0m\u001b[0;34m)\u001b[0m\u001b[0;34m\u001b[0m\u001b[0;34m\u001b[0m\u001b[0m\n\u001b[0m\u001b[1;32m    196\u001b[0m             \u001b[0mself\u001b[0m\u001b[0;34m.\u001b[0m\u001b[0mpage_index\u001b[0m \u001b[0;34m=\u001b[0m \u001b[0;34m-\u001b[0m\u001b[0;36m1\u001b[0m\u001b[0;34m\u001b[0m\u001b[0;34m\u001b[0m\u001b[0m\n\u001b[1;32m    197\u001b[0m         \u001b[0mself\u001b[0m\u001b[0;34m.\u001b[0m\u001b[0mpage_index\u001b[0m \u001b[0;34m+=\u001b[0m \u001b[0;36m1\u001b[0m\u001b[0;34m\u001b[0m\u001b[0;34m\u001b[0m\u001b[0m\n",
      "\u001b[0;32m~/.local/lib/python3.6/site-packages/tweepy/cursor.py\u001b[0m in \u001b[0;36mnext\u001b[0;34m(self)\u001b[0m\n\u001b[1;32m    104\u001b[0m \u001b[0;34m\u001b[0m\u001b[0m\n\u001b[1;32m    105\u001b[0m         \u001b[0;32mif\u001b[0m \u001b[0mself\u001b[0m\u001b[0;34m.\u001b[0m\u001b[0mindex\u001b[0m \u001b[0;34m>=\u001b[0m \u001b[0mlen\u001b[0m\u001b[0;34m(\u001b[0m\u001b[0mself\u001b[0m\u001b[0;34m.\u001b[0m\u001b[0mresults\u001b[0m\u001b[0;34m)\u001b[0m \u001b[0;34m-\u001b[0m \u001b[0;36m1\u001b[0m\u001b[0;34m:\u001b[0m\u001b[0;34m\u001b[0m\u001b[0;34m\u001b[0m\u001b[0m\n\u001b[0;32m--> 106\u001b[0;31m             \u001b[0mdata\u001b[0m \u001b[0;34m=\u001b[0m \u001b[0mself\u001b[0m\u001b[0;34m.\u001b[0m\u001b[0mmethod\u001b[0m\u001b[0;34m(\u001b[0m\u001b[0mmax_id\u001b[0m\u001b[0;34m=\u001b[0m\u001b[0mself\u001b[0m\u001b[0;34m.\u001b[0m\u001b[0mmax_id\u001b[0m\u001b[0;34m,\u001b[0m \u001b[0mparser\u001b[0m\u001b[0;34m=\u001b[0m\u001b[0mRawParser\u001b[0m\u001b[0;34m(\u001b[0m\u001b[0;34m)\u001b[0m\u001b[0;34m,\u001b[0m \u001b[0;34m*\u001b[0m\u001b[0mself\u001b[0m\u001b[0;34m.\u001b[0m\u001b[0margs\u001b[0m\u001b[0;34m,\u001b[0m \u001b[0;34m**\u001b[0m\u001b[0mself\u001b[0m\u001b[0;34m.\u001b[0m\u001b[0mkargs\u001b[0m\u001b[0;34m)\u001b[0m\u001b[0;34m\u001b[0m\u001b[0;34m\u001b[0m\u001b[0m\n\u001b[0m\u001b[1;32m    107\u001b[0m \u001b[0;34m\u001b[0m\u001b[0m\n\u001b[1;32m    108\u001b[0m             \u001b[0;32mif\u001b[0m \u001b[0mhasattr\u001b[0m\u001b[0;34m(\u001b[0m\u001b[0mself\u001b[0m\u001b[0;34m.\u001b[0m\u001b[0mmethod\u001b[0m\u001b[0;34m,\u001b[0m \u001b[0;34m'__self__'\u001b[0m\u001b[0;34m)\u001b[0m\u001b[0;34m:\u001b[0m\u001b[0;34m\u001b[0m\u001b[0;34m\u001b[0m\u001b[0m\n",
      "\u001b[0;32m~/.local/lib/python3.6/site-packages/tweepy/binder.py\u001b[0m in \u001b[0;36m_call\u001b[0;34m(*args, **kwargs)\u001b[0m\n\u001b[1;32m    248\u001b[0m                 \u001b[0;32mreturn\u001b[0m \u001b[0mmethod\u001b[0m\u001b[0;34m\u001b[0m\u001b[0;34m\u001b[0m\u001b[0m\n\u001b[1;32m    249\u001b[0m             \u001b[0;32melse\u001b[0m\u001b[0;34m:\u001b[0m\u001b[0;34m\u001b[0m\u001b[0;34m\u001b[0m\u001b[0m\n\u001b[0;32m--> 250\u001b[0;31m                 \u001b[0;32mreturn\u001b[0m \u001b[0mmethod\u001b[0m\u001b[0;34m.\u001b[0m\u001b[0mexecute\u001b[0m\u001b[0;34m(\u001b[0m\u001b[0;34m)\u001b[0m\u001b[0;34m\u001b[0m\u001b[0;34m\u001b[0m\u001b[0m\n\u001b[0m\u001b[1;32m    251\u001b[0m         \u001b[0;32mfinally\u001b[0m\u001b[0;34m:\u001b[0m\u001b[0;34m\u001b[0m\u001b[0;34m\u001b[0m\u001b[0m\n\u001b[1;32m    252\u001b[0m             \u001b[0mmethod\u001b[0m\u001b[0;34m.\u001b[0m\u001b[0msession\u001b[0m\u001b[0;34m.\u001b[0m\u001b[0mclose\u001b[0m\u001b[0;34m(\u001b[0m\u001b[0;34m)\u001b[0m\u001b[0;34m\u001b[0m\u001b[0;34m\u001b[0m\u001b[0m\n",
      "\u001b[0;32m~/.local/lib/python3.6/site-packages/tweepy/binder.py\u001b[0m in \u001b[0;36mexecute\u001b[0;34m(self)\u001b[0m\n\u001b[1;32m    189\u001b[0m                                                 proxies=self.api.proxy)\n\u001b[1;32m    190\u001b[0m                 \u001b[0;32mexcept\u001b[0m \u001b[0mException\u001b[0m \u001b[0;32mas\u001b[0m \u001b[0me\u001b[0m\u001b[0;34m:\u001b[0m\u001b[0;34m\u001b[0m\u001b[0;34m\u001b[0m\u001b[0m\n\u001b[0;32m--> 191\u001b[0;31m                     \u001b[0msix\u001b[0m\u001b[0;34m.\u001b[0m\u001b[0mreraise\u001b[0m\u001b[0;34m(\u001b[0m\u001b[0mTweepError\u001b[0m\u001b[0;34m,\u001b[0m \u001b[0mTweepError\u001b[0m\u001b[0;34m(\u001b[0m\u001b[0;34m'Failed to send request: %s'\u001b[0m \u001b[0;34m%\u001b[0m \u001b[0me\u001b[0m\u001b[0;34m)\u001b[0m\u001b[0;34m,\u001b[0m \u001b[0msys\u001b[0m\u001b[0;34m.\u001b[0m\u001b[0mexc_info\u001b[0m\u001b[0;34m(\u001b[0m\u001b[0;34m)\u001b[0m\u001b[0;34m[\u001b[0m\u001b[0;36m2\u001b[0m\u001b[0;34m]\u001b[0m\u001b[0;34m)\u001b[0m\u001b[0;34m\u001b[0m\u001b[0;34m\u001b[0m\u001b[0m\n\u001b[0m\u001b[1;32m    192\u001b[0m \u001b[0;34m\u001b[0m\u001b[0m\n\u001b[1;32m    193\u001b[0m                 \u001b[0mrem_calls\u001b[0m \u001b[0;34m=\u001b[0m \u001b[0mresp\u001b[0m\u001b[0;34m.\u001b[0m\u001b[0mheaders\u001b[0m\u001b[0;34m.\u001b[0m\u001b[0mget\u001b[0m\u001b[0;34m(\u001b[0m\u001b[0;34m'x-rate-limit-remaining'\u001b[0m\u001b[0;34m)\u001b[0m\u001b[0;34m\u001b[0m\u001b[0;34m\u001b[0m\u001b[0m\n",
      "\u001b[0;32m~/.local/lib/python3.6/site-packages/six.py\u001b[0m in \u001b[0;36mreraise\u001b[0;34m(tp, value, tb)\u001b[0m\n\u001b[1;32m    690\u001b[0m                 \u001b[0mvalue\u001b[0m \u001b[0;34m=\u001b[0m \u001b[0mtp\u001b[0m\u001b[0;34m(\u001b[0m\u001b[0;34m)\u001b[0m\u001b[0;34m\u001b[0m\u001b[0;34m\u001b[0m\u001b[0m\n\u001b[1;32m    691\u001b[0m             \u001b[0;32mif\u001b[0m \u001b[0mvalue\u001b[0m\u001b[0;34m.\u001b[0m\u001b[0m__traceback__\u001b[0m \u001b[0;32mis\u001b[0m \u001b[0;32mnot\u001b[0m \u001b[0mtb\u001b[0m\u001b[0;34m:\u001b[0m\u001b[0;34m\u001b[0m\u001b[0;34m\u001b[0m\u001b[0m\n\u001b[0;32m--> 692\u001b[0;31m                 \u001b[0;32mraise\u001b[0m \u001b[0mvalue\u001b[0m\u001b[0;34m.\u001b[0m\u001b[0mwith_traceback\u001b[0m\u001b[0;34m(\u001b[0m\u001b[0mtb\u001b[0m\u001b[0;34m)\u001b[0m\u001b[0;34m\u001b[0m\u001b[0;34m\u001b[0m\u001b[0m\n\u001b[0m\u001b[1;32m    693\u001b[0m             \u001b[0;32mraise\u001b[0m \u001b[0mvalue\u001b[0m\u001b[0;34m\u001b[0m\u001b[0;34m\u001b[0m\u001b[0m\n\u001b[1;32m    694\u001b[0m         \u001b[0;32mfinally\u001b[0m\u001b[0;34m:\u001b[0m\u001b[0;34m\u001b[0m\u001b[0;34m\u001b[0m\u001b[0m\n",
      "\u001b[0;32m~/.local/lib/python3.6/site-packages/tweepy/binder.py\u001b[0m in \u001b[0;36mexecute\u001b[0;34m(self)\u001b[0m\n\u001b[1;32m    187\u001b[0m                                                 \u001b[0mtimeout\u001b[0m\u001b[0;34m=\u001b[0m\u001b[0mself\u001b[0m\u001b[0;34m.\u001b[0m\u001b[0mapi\u001b[0m\u001b[0;34m.\u001b[0m\u001b[0mtimeout\u001b[0m\u001b[0;34m,\u001b[0m\u001b[0;34m\u001b[0m\u001b[0;34m\u001b[0m\u001b[0m\n\u001b[1;32m    188\u001b[0m                                                 \u001b[0mauth\u001b[0m\u001b[0;34m=\u001b[0m\u001b[0mauth\u001b[0m\u001b[0;34m,\u001b[0m\u001b[0;34m\u001b[0m\u001b[0;34m\u001b[0m\u001b[0m\n\u001b[0;32m--> 189\u001b[0;31m                                                 proxies=self.api.proxy)\n\u001b[0m\u001b[1;32m    190\u001b[0m                 \u001b[0;32mexcept\u001b[0m \u001b[0mException\u001b[0m \u001b[0;32mas\u001b[0m \u001b[0me\u001b[0m\u001b[0;34m:\u001b[0m\u001b[0;34m\u001b[0m\u001b[0;34m\u001b[0m\u001b[0m\n\u001b[1;32m    191\u001b[0m                     \u001b[0msix\u001b[0m\u001b[0;34m.\u001b[0m\u001b[0mreraise\u001b[0m\u001b[0;34m(\u001b[0m\u001b[0mTweepError\u001b[0m\u001b[0;34m,\u001b[0m \u001b[0mTweepError\u001b[0m\u001b[0;34m(\u001b[0m\u001b[0;34m'Failed to send request: %s'\u001b[0m \u001b[0;34m%\u001b[0m \u001b[0me\u001b[0m\u001b[0;34m)\u001b[0m\u001b[0;34m,\u001b[0m \u001b[0msys\u001b[0m\u001b[0;34m.\u001b[0m\u001b[0mexc_info\u001b[0m\u001b[0;34m(\u001b[0m\u001b[0;34m)\u001b[0m\u001b[0;34m[\u001b[0m\u001b[0;36m2\u001b[0m\u001b[0;34m]\u001b[0m\u001b[0;34m)\u001b[0m\u001b[0;34m\u001b[0m\u001b[0;34m\u001b[0m\u001b[0m\n",
      "\u001b[0;32m~/.local/lib/python3.6/site-packages/requests/sessions.py\u001b[0m in \u001b[0;36mrequest\u001b[0;34m(self, method, url, params, data, headers, cookies, files, auth, timeout, allow_redirects, proxies, hooks, stream, verify, cert, json)\u001b[0m\n\u001b[1;32m    531\u001b[0m         }\n\u001b[1;32m    532\u001b[0m         \u001b[0msend_kwargs\u001b[0m\u001b[0;34m.\u001b[0m\u001b[0mupdate\u001b[0m\u001b[0;34m(\u001b[0m\u001b[0msettings\u001b[0m\u001b[0;34m)\u001b[0m\u001b[0;34m\u001b[0m\u001b[0;34m\u001b[0m\u001b[0m\n\u001b[0;32m--> 533\u001b[0;31m         \u001b[0mresp\u001b[0m \u001b[0;34m=\u001b[0m \u001b[0mself\u001b[0m\u001b[0;34m.\u001b[0m\u001b[0msend\u001b[0m\u001b[0;34m(\u001b[0m\u001b[0mprep\u001b[0m\u001b[0;34m,\u001b[0m \u001b[0;34m**\u001b[0m\u001b[0msend_kwargs\u001b[0m\u001b[0;34m)\u001b[0m\u001b[0;34m\u001b[0m\u001b[0;34m\u001b[0m\u001b[0m\n\u001b[0m\u001b[1;32m    534\u001b[0m \u001b[0;34m\u001b[0m\u001b[0m\n\u001b[1;32m    535\u001b[0m         \u001b[0;32mreturn\u001b[0m \u001b[0mresp\u001b[0m\u001b[0;34m\u001b[0m\u001b[0;34m\u001b[0m\u001b[0m\n",
      "\u001b[0;32m~/.local/lib/python3.6/site-packages/requests/sessions.py\u001b[0m in \u001b[0;36msend\u001b[0;34m(self, request, **kwargs)\u001b[0m\n\u001b[1;32m    644\u001b[0m \u001b[0;34m\u001b[0m\u001b[0m\n\u001b[1;32m    645\u001b[0m         \u001b[0;31m# Send the request\u001b[0m\u001b[0;34m\u001b[0m\u001b[0;34m\u001b[0m\u001b[0;34m\u001b[0m\u001b[0m\n\u001b[0;32m--> 646\u001b[0;31m         \u001b[0mr\u001b[0m \u001b[0;34m=\u001b[0m \u001b[0madapter\u001b[0m\u001b[0;34m.\u001b[0m\u001b[0msend\u001b[0m\u001b[0;34m(\u001b[0m\u001b[0mrequest\u001b[0m\u001b[0;34m,\u001b[0m \u001b[0;34m**\u001b[0m\u001b[0mkwargs\u001b[0m\u001b[0;34m)\u001b[0m\u001b[0;34m\u001b[0m\u001b[0;34m\u001b[0m\u001b[0m\n\u001b[0m\u001b[1;32m    647\u001b[0m \u001b[0;34m\u001b[0m\u001b[0m\n\u001b[1;32m    648\u001b[0m         \u001b[0;31m# Total elapsed time of the request (approximately)\u001b[0m\u001b[0;34m\u001b[0m\u001b[0;34m\u001b[0m\u001b[0;34m\u001b[0m\u001b[0m\n",
      "\u001b[0;32m~/.local/lib/python3.6/site-packages/requests/adapters.py\u001b[0m in \u001b[0;36msend\u001b[0;34m(self, request, stream, timeout, verify, cert, proxies)\u001b[0m\n\u001b[1;32m    502\u001b[0m                 \u001b[0;31m# TODO: Remove this in 3.0.0: see #2811\u001b[0m\u001b[0;34m\u001b[0m\u001b[0;34m\u001b[0m\u001b[0;34m\u001b[0m\u001b[0m\n\u001b[1;32m    503\u001b[0m                 \u001b[0;32mif\u001b[0m \u001b[0;32mnot\u001b[0m \u001b[0misinstance\u001b[0m\u001b[0;34m(\u001b[0m\u001b[0me\u001b[0m\u001b[0;34m.\u001b[0m\u001b[0mreason\u001b[0m\u001b[0;34m,\u001b[0m \u001b[0mNewConnectionError\u001b[0m\u001b[0;34m)\u001b[0m\u001b[0;34m:\u001b[0m\u001b[0;34m\u001b[0m\u001b[0;34m\u001b[0m\u001b[0m\n\u001b[0;32m--> 504\u001b[0;31m                     \u001b[0;32mraise\u001b[0m \u001b[0mConnectTimeout\u001b[0m\u001b[0;34m(\u001b[0m\u001b[0me\u001b[0m\u001b[0;34m,\u001b[0m \u001b[0mrequest\u001b[0m\u001b[0;34m=\u001b[0m\u001b[0mrequest\u001b[0m\u001b[0;34m)\u001b[0m\u001b[0;34m\u001b[0m\u001b[0;34m\u001b[0m\u001b[0m\n\u001b[0m\u001b[1;32m    505\u001b[0m \u001b[0;34m\u001b[0m\u001b[0m\n\u001b[1;32m    506\u001b[0m             \u001b[0;32mif\u001b[0m \u001b[0misinstance\u001b[0m\u001b[0;34m(\u001b[0m\u001b[0me\u001b[0m\u001b[0;34m.\u001b[0m\u001b[0mreason\u001b[0m\u001b[0;34m,\u001b[0m \u001b[0mResponseError\u001b[0m\u001b[0;34m)\u001b[0m\u001b[0;34m:\u001b[0m\u001b[0;34m\u001b[0m\u001b[0;34m\u001b[0m\u001b[0m\n",
      "\u001b[0;31mTweepError\u001b[0m: Failed to send request: HTTPSConnectionPool(host='api.twitter.com', port=443): Max retries exceeded with url: /1.1/search/tweets.json?max_id=1186334810874077184&q=%23gravity&count=1&tweet_mode=extended&lang=en (Caused by ConnectTimeoutError(<urllib3.connection.VerifiedHTTPSConnection object at 0x7f64499c1e10>, 'Connection to api.twitter.com timed out. (connect timeout=60)'))"
     ]
    }
   ],
   "source": [
    "tweets = ret.getTweets('#gravity', 1)"
   ]
  },
  {
   "cell_type": "code",
   "execution_count": 192,
   "metadata": {},
   "outputs": [
    {
     "name": "stdout",
     "output_type": "stream",
     "text": [
      "['do you', 'think', 'day6', 'superpower', 'day', 'day jae', 'mydays', 'sungjin', 'wonpil', 'dowoon', 'young k', 'jae', 'gravity', 'entropy', 'the book of us', 'day gravity', 'dayworldtour', 'day', '데이식스', 'sweet chaos', 'day sweet chaos']\n"
     ]
    },
    {
     "data": {
      "text/plain": [
       "['do you',\n",
       " 'think',\n",
       " 'day6',\n",
       " 'superpower',\n",
       " 'day',\n",
       " 'day jae',\n",
       " 'mydays',\n",
       " 'sungjin',\n",
       " 'wonpil',\n",
       " 'dowoon',\n",
       " 'young k',\n",
       " 'jae',\n",
       " 'gravity',\n",
       " 'entropy',\n",
       " 'the book of us',\n",
       " 'day gravity',\n",
       " 'dayworldtour',\n",
       " 'day',\n",
       " '데이식스',\n",
       " 'sweet chaos',\n",
       " 'day sweet chaos']"
      ]
     },
     "execution_count": 192,
     "metadata": {},
     "output_type": "execute_result"
    }
   ],
   "source": [
    "tweets[0].get_graph_entities()"
   ]
  },
  {
   "cell_type": "code",
   "execution_count": 193,
   "metadata": {},
   "outputs": [
    {
     "data": {
      "text/plain": [
       "9"
      ]
     },
     "execution_count": 193,
     "metadata": {},
     "output_type": "execute_result"
    }
   ],
   "source": [
    "len(tweets)"
   ]
  },
  {
   "cell_type": "code",
   "execution_count": 183,
   "metadata": {},
   "outputs": [
    {
     "name": "stdout",
     "output_type": "stream",
     "text": [
      "['interstellar', 'space travel', 'time travel', 'tech', 'astronomy', 'astrophysics', 'space', 'science', 'physics']\n",
      "['interstellar']\n",
      "['introducing', 'next-gen', 'trickshot', 'solar', 'interstellar', 'out of this world']\n",
      "['soundtrack', 'amazing', 'listen', 'do you', 'listen', 'interstellar', 'writers', 'writing', 'writing community']\n",
      "['major major', 'thanks to', 'dropping', 'alison wonderland', 'sxmelectro', 'in rotation', 'insomniac records', 'interstellar', 'radio wonderland']\n",
      "['rocket', 'science.', 'dog', 'science', 'physics', 'biology', 'cosmos', 'space', 'chemistry', 'blackhomeschoolers', 'astronomy', 'nasa', 'universe', 'spaceexploration', 'nature', 'interstellar', 'mars', 'solarsystem', 'art', 'study', 'science', 'school']\n",
      "['hours', 'to go', 'neck', 'going to', 'don’t', 'let it happen', 'folks', 'votes', 'help', 'rob', 'ross', 'gotyoucovered', 'bond', 'interstellar', 'movie', 'moviechat', 'filmtwitter', 'movie poster', 'cinema']\n",
      "['bunch', 'dancing', 'people', 'tight', 'clothes', 'moving', 'trash cans', 'the stage', 'music', 'iac', 'interstellar']\n",
      "['comets', 'sky', 'telescope', 'interstellar', 'comet', 'borisov', 'solar system']\n",
      "['groundbreaking', 'maria lorca', 'the avengers', 'interstellar', 'sciencefiction']\n",
      "['for the first time', 'interstellar', 'comet']\n",
      "['the science of interstellar', 'kip', 'the physicist', 'nolan', 'scientific', 'aspects', 'the film', 'shows', 'science', 'interstellar']\n",
      "['trusty', 'space', 'the only', 'police unit', 'at the time', 'hard beat', 'alistair mcknight', 'interstellar', 'ghettos']\n"
     ]
    }
   ],
   "source": [
    "graph = createGraph(['gravity'], tweets)"
   ]
  },
  {
   "cell_type": "code",
   "execution_count": 184,
   "metadata": {},
   "outputs": [
    {
     "data": {
      "text/plain": [
       "[('space travel', 0.007132641058254577),\n",
       " ('time travel', 0.007132641058254577),\n",
       " ('tech', 0.007132641058254577),\n",
       " ('astrophysics', 0.007735622579121715),\n",
       " ('for the first time', 0.00866752878287172),\n",
       " ('comets', 0.008738474102461341),\n",
       " ('sky', 0.008738474102461341),\n",
       " ('telescope', 0.008738474102461341),\n",
       " ('maria lorca', 0.00898215702361635),\n",
       " ('the avengers', 0.00898215702361635),\n",
       " ('groundbreaking', 0.008982157023616351),\n",
       " ('sciencefiction', 0.008982157023616351),\n",
       " ('borisov', 0.00905087105960878),\n",
       " ('solar system', 0.00905087105960878),\n",
       " ('introducing', 0.009078096450958245),\n",
       " ('next-gen', 0.009078096450958245),\n",
       " ('trickshot', 0.009078096450958245),\n",
       " ('solar', 0.009078096450958245),\n",
       " ('out of this world', 0.009078096450958245),\n",
       " ('police unit', 0.009083684364101941),\n",
       " ('at the time', 0.009083684364101941),\n",
       " ('hard beat', 0.009083684364101941),\n",
       " ('trusty', 0.009083684364101943),\n",
       " ('the only', 0.009083684364101943),\n",
       " ('alistair mcknight', 0.009083684364101943),\n",
       " ('ghettos', 0.009083684364101943),\n",
       " ('the science of interstellar', 0.009134616292178111),\n",
       " ('kip', 0.009134616292178111),\n",
       " ('the physicist', 0.009134616292178111),\n",
       " ('nolan', 0.009134616292178111),\n",
       " ('scientific', 0.009134616292178111),\n",
       " ('aspects', 0.009134616292178111),\n",
       " ('the film', 0.009134616292178111),\n",
       " ('shows', 0.009134616292178113),\n",
       " ('soundtrack', 0.009229429211820128),\n",
       " ('amazing', 0.009229429211820128),\n",
       " ('listen', 0.009229429211820128),\n",
       " ('do you', 0.009229429211820128),\n",
       " ('writers', 0.009229429211820128),\n",
       " ('writing', 0.009229429211820128),\n",
       " ('writing community', 0.009229429211820128),\n",
       " ('rocket', 0.009278983826116038),\n",
       " ('science.', 0.009278983826116038),\n",
       " ('dog', 0.009278983826116038),\n",
       " ('biology', 0.009278983826116038),\n",
       " ('cosmos', 0.00927898382611604),\n",
       " ('chemistry', 0.00927898382611604),\n",
       " ('blackhomeschoolers', 0.00927898382611604),\n",
       " ('nasa', 0.00927898382611604),\n",
       " ('universe', 0.00927898382611604),\n",
       " ('spaceexploration', 0.00927898382611604),\n",
       " ('nature', 0.00927898382611604),\n",
       " ('mars', 0.00927898382611604),\n",
       " ('solarsystem', 0.00927898382611604),\n",
       " ('art', 0.00927898382611604),\n",
       " ('study', 0.00927898382611604),\n",
       " ('school', 0.00927898382611604),\n",
       " ('radio wonderland', 0.009290040073585882),\n",
       " ('major major', 0.009290040073585883),\n",
       " ('thanks to', 0.009290040073585883),\n",
       " ('dropping', 0.009290040073585883),\n",
       " ('alison wonderland', 0.009290040073585883),\n",
       " ('sxmelectro', 0.009290040073585883),\n",
       " ('in rotation', 0.009290040073585883),\n",
       " ('insomniac records', 0.009290040073585883),\n",
       " ('bunch', 0.009389718988741368),\n",
       " ('dancing', 0.00938971898874137),\n",
       " ('people', 0.00938971898874137),\n",
       " ('tight', 0.00938971898874137),\n",
       " ('clothes', 0.00938971898874137),\n",
       " ('moving', 0.00938971898874137),\n",
       " ('trash cans', 0.00938971898874137),\n",
       " ('the stage', 0.00938971898874137),\n",
       " ('music', 0.00938971898874137),\n",
       " ('iac', 0.00938971898874137),\n",
       " ('filmtwitter', 0.009626297554261507),\n",
       " ('movie poster', 0.009626297554261507),\n",
       " ('cinema', 0.009626297554261507),\n",
       " ('hours', 0.009626297554261509),\n",
       " ('to go', 0.009626297554261509),\n",
       " ('neck', 0.009626297554261509),\n",
       " ('going to', 0.009626297554261509),\n",
       " ('don’t', 0.009626297554261509),\n",
       " ('let it happen', 0.009626297554261509),\n",
       " ('folks', 0.009626297554261509),\n",
       " ('votes', 0.009626297554261509),\n",
       " ('help', 0.009626297554261509),\n",
       " ('rob', 0.009626297554261509),\n",
       " ('ross', 0.009626297554261509),\n",
       " ('gotyoucovered', 0.009626297554261509),\n",
       " ('bond', 0.009626297554261509),\n",
       " ('movie', 0.009626297554261509),\n",
       " ('moviechat', 0.009626297554261509),\n",
       " ('physics', 0.011173850844455208),\n",
       " ('comet', 0.011313940258076353),\n",
       " ('astronomy', 0.011621918140817129),\n",
       " ('space', 0.016806854106693435),\n",
       " ('science', 0.016953498840871467),\n",
       " ('interstellar', 0.07746925545692748)]"
      ]
     },
     "execution_count": 184,
     "metadata": {},
     "output_type": "execute_result"
    }
   ],
   "source": [
    "graph.get_all_node_values()"
   ]
  },
  {
   "cell_type": "code",
   "execution_count": 185,
   "metadata": {},
   "outputs": [],
   "source": [
    "avg = graph.get_avg_thres()"
   ]
  },
  {
   "cell_type": "code",
   "execution_count": 186,
   "metadata": {},
   "outputs": [],
   "source": [
    "partitions = partitionGraph(graph, 0.05, 0.01, high_rank_thres=avg)"
   ]
  },
  {
   "cell_type": "code",
   "execution_count": 187,
   "metadata": {},
   "outputs": [],
   "source": [
    "def summarization(partitions, tweet_cutoff = 1):\n",
    "    summary = []\n",
    "    for part in partitions:\n",
    "        tweet_set = set()\n",
    "        for node in part:\n",
    "            tweet_set = tweet_set.union(node.tweets)\n",
    "        node_entity_count = []\n",
    "        tweet_set = list(tweet_set)\n",
    "        #print(tweet_set)\n",
    "        for i, tweet in enumerate(tweet_set):\n",
    "            count = 0\n",
    "            for node in part:\n",
    "                if node.name in tweet.text:\n",
    "                    count += 1\n",
    "            node_entity_count += [(i, count)]\n",
    "        node_entity_count = sorted(node_entity_count, key = lambda x: x[1], reverse = True)\n",
    "        #print(node_entity_count)\n",
    "        for i in range(tweet_cutoff):\n",
    "            summary += [tweet_set[node_entity_count[i][0]].text]\n",
    "    return summary"
   ]
  },
  {
   "cell_type": "code",
   "execution_count": 188,
   "metadata": {},
   "outputs": [
    {
     "name": "stdout",
     "output_type": "stream",
     "text": [
      "astronomy 2\n",
      "space 3\n",
      "science 3\n",
      "interstellar 13\n",
      "comet 2\n",
      "physics 2\n",
      "====\n",
      "\n"
     ]
    }
   ],
   "source": [
    "for p in partitions:\n",
    "    for p2 in p:\n",
    "        print(p2.name, len(p2.tweets))\n",
    "    print(\"====\\n\")"
   ]
  },
  {
   "cell_type": "code",
   "execution_count": 149,
   "metadata": {},
   "outputs": [
    {
     "name": "stdout",
     "output_type": "stream",
     "text": [
      "Renting is a far better and wiser option to choose when compared to buying furniture for your start up office. #entrepreneur #startupindia #startups #india #startupslist https://t.co/cAAXtLeM3F\n",
      "=====\n",
      "Within a span of less than a week, #OPEC held high-level meetings with the two fastest-growing oil consuming nations in the world – #India and #China – to further strengthen cooperation in support of oil market stability and the world economy. https://t.co/kNajp5ildg\n",
      "=====\n",
      "Funeral of soldier Zahid Farooqi, martyred yesterday, in his native Kalsan village of #Haveli district with full military honours.\n",
      "In #IHK, #Kashmiris fight against #India &amp; in #AJK they fight for #Pakistan. That's what many #Indians either fail to understand or tend to ignore. https://t.co/qzM615KshC\n"
     ]
    }
   ],
   "source": [
    "s = summarization(partitions)\n",
    "print(s[0])\n",
    "print(\"=====\")\n",
    "print(s[1])\n",
    "print(\"=====\")\n",
    "print(s[2])\n"
   ]
  },
  {
   "cell_type": "code",
   "execution_count": 160,
   "metadata": {},
   "outputs": [
    {
     "data": {
      "text/plain": [
       "'We need not to visualize a black hole now as the image is available. Powehi, a  black hole whose image was issued b… https://t.co/06Y5pQTmmU'"
      ]
     },
     "execution_count": 160,
     "metadata": {},
     "output_type": "execute_result"
    }
   ],
   "source": [
    "list(partitions[0][0].tweets)[0].json['text']"
   ]
  },
  {
   "cell_type": "code",
   "execution_count": null,
   "metadata": {},
   "outputs": [],
   "source": []
  }
 ],
 "metadata": {
  "kernelspec": {
   "display_name": "Python 3",
   "language": "python",
   "name": "python3"
  },
  "language_info": {
   "codemirror_mode": {
    "name": "ipython",
    "version": 3
   },
   "file_extension": ".py",
   "mimetype": "text/x-python",
   "name": "python",
   "nbconvert_exporter": "python",
   "pygments_lexer": "ipython3",
   "version": "3.6.8"
  }
 },
 "nbformat": 4,
 "nbformat_minor": 2
}
